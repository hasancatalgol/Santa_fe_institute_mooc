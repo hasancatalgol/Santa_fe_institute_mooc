{
 "cells": [
  {
   "cell_type": "markdown",
   "metadata": {},
   "source": [
    "# Introduction to Complexity"
   ]
  },
  {
   "cell_type": "markdown",
   "metadata": {},
   "source": [
    "## Linear System Example\n",
    "### Linear Systems are the systems where interaction between individuals is zero. (Independent)"
   ]
  },
  {
   "cell_type": "markdown",
   "metadata": {},
   "source": [
    "Simple Population growth of rabbits are denoted as;\n",
    "\n",
    "Birthrate = Number of offsprings produced each year\n",
    "\n",
    "$n = $ Population                   \n",
    "\n",
    "$n_0$ = Initial Population\n",
    "\n",
    "$n_t$ = Population at year t"
   ]
  },
  {
   "cell_type": "code",
   "execution_count": 48,
   "metadata": {},
   "outputs": [
    {
     "name": "stdout",
     "output_type": "stream",
     "text": [
      "10\n"
     ]
    }
   ],
   "source": [
    "birthrate = 1\n",
    "initial_population = 10\n",
    "next_years_population = birthrate * initial_population\n",
    "print(next_years_population)"
   ]
  },
  {
   "cell_type": "markdown",
   "metadata": {},
   "source": [
    "## 2.3 Iteration » Quiz\n",
    "Let Birthrate = 3 and Initial Population 1. What is the population 4 years later?"
   ]
  },
  {
   "cell_type": "code",
   "execution_count": 49,
   "metadata": {},
   "outputs": [
    {
     "data": {
      "text/plain": [
       "[3, 9, 27, 81]"
      ]
     },
     "execution_count": 49,
     "metadata": {},
     "output_type": "execute_result"
    }
   ],
   "source": [
    "birthrate = 3\n",
    "initial_population = 1\n",
    "x_years_later = 4\n",
    "\n",
    "population_over_time = []\n",
    "for x in range(x_years_later):\n",
    "    next_years_population = birthrate * initial_population\n",
    "    initial_population   = next_years_population\n",
    "    \n",
    "    population_over_time.append(initial_population)\n",
    "population_over_time"
   ]
  },
  {
   "cell_type": "code",
   "execution_count": 50,
   "metadata": {},
   "outputs": [
    {
     "name": "stdout",
     "output_type": "stream",
     "text": [
      "81\n"
     ]
    }
   ],
   "source": [
    "final_years_population = population_over_time[-1]\n",
    "print(final_years_population)"
   ]
  },
  {
   "cell_type": "markdown",
   "metadata": {},
   "source": [
    "# Non Linear System Example\n",
    "## Outcomes dependent on many variables."
   ]
  },
  {
   "cell_type": "markdown",
   "metadata": {},
   "source": [
    "\n",
    "$n_d$ = Number of deaths each year\n",
    "\n",
    "Population of Next Year = Birthrate x ($n_t$ - $n_d$ ) \n",
    "\n",
    "$n_d$ = $n_t^2$/Maximum Possible Population"
   ]
  },
  {
   "cell_type": "markdown",
   "metadata": {},
   "source": [
    "### Extended Model (Logistic Model of Verlaust)"
   ]
  },
  {
   "cell_type": "markdown",
   "metadata": {},
   "source": [
    "Next Years Population = Birthrate($n_t$-$n_t^2$/Maximum Possible Population)"
   ]
  },
  {
   "cell_type": "code",
   "execution_count": 51,
   "metadata": {},
   "outputs": [],
   "source": [
    "next_year_population = (birthrate-deathrate)*(initial_population-(initial_population*initial_population/carrying_capacity)) "
   ]
  },
  {
   "cell_type": "markdown",
   "metadata": {},
   "source": [
    "## 2.4 Linear versus Nonlinear Systems » Exercise 1\n",
    "Set the initial population to 10, birthrate to 2.5, deathrate to 0, carrying-capacity to 50. If you continually click on Reproduce, the population will reach a size that will no longer change after some time. What is the size?"
   ]
  },
  {
   "cell_type": "code",
   "execution_count": 52,
   "metadata": {},
   "outputs": [
    {
     "data": {
      "text/plain": [
       "[20.0, 30.0, 30.0, 30.0, 30.0]"
      ]
     },
     "execution_count": 52,
     "metadata": {},
     "output_type": "execute_result"
    }
   ],
   "source": [
    "initial_population = 10\n",
    "birthrate          = 2.5\n",
    "deathrate          = 0\n",
    "carrying_capacity  = 50\n",
    "x_years_later      = 5      #5 year as some time\n",
    "\n",
    "population_over_time = []\n",
    "\n",
    "for x in range(x_years_later):\n",
    "    next_year_population = (birthrate-deathrate)*(initial_population-(initial_population*initial_population/carrying_capacity)) \n",
    "    initial_population   = next_year_population\n",
    "    \n",
    "    population_over_time.append(initial_population)\n",
    "population_over_time"
   ]
  },
  {
   "cell_type": "markdown",
   "metadata": {},
   "source": [
    "## 2.4 Linear versus Nonlinear Systems » Exercise 2\n",
    "Use the same settings as in the previous exercise (birthrate 2.5, death-rate 0, carrying capacity 50), but now set the initial population to 20.  Now if you run the system until it reaches a fixed point, will the fixed point be the same or different than the one you got for the previous exercise?    (First make a hypothesis about this, then try it out with NetLogo.)"
   ]
  },
  {
   "cell_type": "code",
   "execution_count": 53,
   "metadata": {},
   "outputs": [
    {
     "data": {
      "text/plain": [
       "[30.0, 30.0, 30.0, 30.0, 30.0]"
      ]
     },
     "execution_count": 53,
     "metadata": {},
     "output_type": "execute_result"
    }
   ],
   "source": [
    "initial_population = 20\n",
    "birthrate          = 2.5\n",
    "deathrate          = 0\n",
    "carrying_capacity  = 50\n",
    "x_years_later      = 5      #5 year as some time\n",
    "\n",
    "population_over_time = []\n",
    "\n",
    "for x in range(x_years_later):\n",
    "    next_year_population = (birthrate-deathrate)*(initial_population-(initial_population*initial_population/carrying_capacity)) \n",
    "    initial_population   = next_year_population\n",
    "    \n",
    "    population_over_time.append(initial_population)\n",
    "population_over_time"
   ]
  },
  {
   "cell_type": "markdown",
   "metadata": {},
   "source": [
    "## 2.4 Linear versus Nonlinear Systems » Exercise 3\n",
    "Will the fixed point always be the same for this system (with these parameter settings) no matter what initial population (greater than zero and less than 50) you start with?"
   ]
  },
  {
   "cell_type": "markdown",
   "metadata": {},
   "source": [
    "If we run the previous code for values between 0 and 50, outcomes will be the same"
   ]
  },
  {
   "cell_type": "markdown",
   "metadata": {},
   "source": [
    "# 2.5 Logistic Model"
   ]
  },
  {
   "cell_type": "raw",
   "metadata": {},
   "source": [
    "R = Birthrate - Deathrate\n",
    "K = Carrying Capacity = Max Population; we re-write the previous equation.\n",
    "\n",
    "Population of Next Year = Birthrate-Deathrate) x ($n_t$ - $n_d$ ) \n",
    "\n",
    "$n_d$ = $n_t^2$/Maximum Possible Population"
   ]
  },
  {
   "cell_type": "code",
   "execution_count": null,
   "metadata": {},
   "outputs": [],
   "source": []
  },
  {
   "cell_type": "code",
   "execution_count": null,
   "metadata": {},
   "outputs": [],
   "source": []
  }
 ],
 "metadata": {
  "kernelspec": {
   "display_name": "Python 3",
   "language": "python",
   "name": "python3"
  },
  "language_info": {
   "codemirror_mode": {
    "name": "ipython",
    "version": 3
   },
   "file_extension": ".py",
   "mimetype": "text/x-python",
   "name": "python",
   "nbconvert_exporter": "python",
   "pygments_lexer": "ipython3",
   "version": "3.7.6"
  }
 },
 "nbformat": 4,
 "nbformat_minor": 4
}
